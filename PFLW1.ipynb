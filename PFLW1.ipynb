{
 "cells": [
  {
   "cell_type": "code",
   "execution_count": 2,
   "metadata": {},
   "outputs": [],
   "source": [
    "def decimal_to_binary(n):\n",
    "    if n==0: return ''\n",
    "    else:\n",
    "        return decimal_to_binary(int(n)/2) + str(int(n)%2)"
   ]
  },
  {
   "cell_type": "code",
   "execution_count": 104,
   "metadata": {},
   "outputs": [
    {
     "data": {
      "text/html": [
       "<html>\n",
       "\n",
       "<svg width=\"300\" height=\"200\">\n",
       "      <rect width=\"300\" height=\"200\" fill=\"darkblue\" />\n",
       "      <rect width=\"300\" y=\"75\" height=\"50\"  fill=\"white\" />\n",
       "      <rect width=\"50\" x=\"75\" height=\"300\"  fill=\"white\" />\n",
       "      <rect width=\"300\" y=\"87.5\" height=\"25\"  fill=\"red\" />\n",
       "      <rect width=\"25\" x=\"87.5\" height=\"300\"  fill=\"red\" />  \n",
       "    </svg>\n",
       "\n",
       "<table align=\"center\">\n",
       "<tr  >\n",
       "    <td >\n",
       "    \n",
       "    </td>\n",
       "    </tr>\n",
       "    \n",
       "       \n",
       "            <tr>\n",
       "                <td><h1>Iceland<h1></td>\n",
       "                <td><a href =\"https://en.wikipedia.org/wiki/Iceland\"><h2>Wiki page<h2></a></td>\n",
       "                \n",
       "            </tr>\n",
       "            <tr>\n",
       "                <td><h1>Government</h1></td>\n",
       "                <td><h2>Unitary parliamentary republic</h2></td>\n",
       "            </tr>\n",
       "            <tr>\n",
       "                <td><h1>President<h1></td>\n",
       "                <td><a href = \"https://en.wikipedia.org/wiki/Gu%C3%B0ni_Th._J%C3%B3hannesson\"><h2>Guðni Th. Jóhannesson</h2></a></td>\n",
       "            </tr>\n",
       "            <tr>\n",
       "                <td><h1>Area</h1><td>\n",
       "                <td><h2>102,775 km2, 2% water</h2></td>    \n",
       "            </tr>\n",
       "            <tr>\n",
       "                <td><h1>Population<h1><td>\n",
       "                <td><h2><b>364,134</b><h2></br>\n",
       "                    <h3>89% Icelandic </br>\n",
       "                    5% Polish</br>\n",
       "                    1% Lithuanians</br>\n",
       "                    5% other</h3></td>   \n",
       "            </tr>\n",
       "            <tr>\n",
       "                <td><h1>Celebrities<h1><td>\n",
       "                <td><ol style = \"list-style-type:none\">\n",
       "                    <li><a href = \"https://en.wikipedia.org/wiki/Bj%C3%B6rk\"><h2>Björk Guðmundsdóttir</h2></a>\n",
       "                        <br/><i>Singer, songwriter, record producer, actress, and DJ</i>\n",
       "                        <img  src =\"https://upload.wikimedia.org/wikipedia/commons/thumb/6/61/Bj%C3%B6rk_-_Hurricane_Festival.jpg/330px-Bj%C3%B6rk_-_Hurricane_Festival.jpg\" /> </li>\n",
       "                    <li><a href = \"https://en.wikipedia.org/wiki/Halld%C3%B3r_Laxness\"><h2>Halldór Laxness</h2></a>\n",
       "                        <br/><i>Writer and winner of the 1955 Nobel Prize in Literature</i>\n",
       "                        <img  src =\"https://upload.wikimedia.org/wikipedia/commons/4/4d/Halld%C3%B3r_Kiljan_Laxness_1955.jpg\" /></li>\n",
       "                    <li><a href = \"https://en.wikipedia.org/wiki/Gylfi_Sigur%C3%B0sson\"><h2>Gylfi Sigurðsson</h2></a>\n",
       "                        <br/><i>Professional footballer who plays as an attacking midfielder for Premier League club Everton and the Iceland national team</i>\n",
       "                        <img  src =\"https://upload.wikimedia.org/wikipedia/commons/f/f3/ISL-HRV_%2821%29_%28cropped%29.jpg\" /></li>\n",
       "                    <li><a href = \"https://en.wikipedia.org/wiki/Bjarni_Tryggvason\"><h2>Bjarni Tryggvason</h2></a>\n",
       "                        <br/><i>Engineer and a former NRC/CSA astronaut</i>\n",
       "                        <img  src =\"https://upload.wikimedia.org/wikipedia/commons/thumb/5/5b/Bjarni_Tryggvason.jpg/330px-Bjarni_Tryggvason.jpg\" /></li>\n",
       "                </ol>\n",
       "                </td>    \n",
       "            </tr>\n",
       "        \n",
       "    \n",
       "</tr>\n",
       "</table>\n"
      ],
      "text/plain": [
       "<IPython.core.display.HTML object>"
      ]
     },
     "metadata": {},
     "output_type": "display_data"
    }
   ],
   "source": [
    "%%HTML\n",
    "<html>\n",
    "\n",
    "<svg width=\"300\" height=\"200\">\n",
    "      <rect width=\"300\" height=\"200\" fill=\"darkblue\" />\n",
    "      <rect width=\"300\" y=\"75\" height=\"50\"  fill=\"white\" />\n",
    "      <rect width=\"50\" x=\"75\" height=\"300\"  fill=\"white\" />\n",
    "      <rect width=\"300\" y=\"87.5\" height=\"25\"  fill=\"red\" />\n",
    "      <rect width=\"25\" x=\"87.5\" height=\"300\"  fill=\"red\" />  \n",
    "    </svg>\n",
    "\n",
    "    <table align=\"center\">\n",
    "       \n",
    "            <tr>\n",
    "                <td><h1>Iceland<h1></td>\n",
    "                <td><a href =\"https://en.wikipedia.org/wiki/Iceland\"><h2>Wiki page<h2></a></td>   \n",
    "            </tr>\n",
    "            <tr>\n",
    "                <td><h1>Government</h1></td>\n",
    "                <td><h2>Unitary parliamentary republic</h2></td>\n",
    "            </tr>\n",
    "            <tr>\n",
    "                <td><h1>President<h1></td>\n",
    "                <td><a href = \"https://en.wikipedia.org/wiki/Gu%C3%B0ni_Th._J%C3%B3hannesson\"><h2>Guðni Th. Jóhannesson</h2></a></td>\n",
    "            </tr>\n",
    "            <tr>\n",
    "                <td><h1>Area</h1><td>\n",
    "                <td><h2>102,775 km2, 2% water</h2></td>    \n",
    "            </tr>\n",
    "            <tr>\n",
    "                <td><h1>Population<h1><td>\n",
    "                <td><h2><b>364,134</b><h2></br>\n",
    "                    <h3>89% Icelandic </br>\n",
    "                    5% Polish</br>\n",
    "                    1% Lithuanians</br>\n",
    "                    5% other</h3></td>   \n",
    "            </tr>\n",
    "            <tr>\n",
    "                <td><h1>Celebrities<h1><td>\n",
    "                <td><ol style = \"list-style-type:none\">\n",
    "                    <li><a href = \"https://en.wikipedia.org/wiki/Bj%C3%B6rk\"><h2>Björk Guðmundsdóttir</h2></a>\n",
    "                        <br/><i>Singer, songwriter, record producer, actress, and DJ</i>\n",
    "                        <img  src =\"https://upload.wikimedia.org/wikipedia/commons/thumb/6/61/Bj%C3%B6rk_-_Hurricane_Festival.jpg/330px-Bj%C3%B6rk_-_Hurricane_Festival.jpg\" /> </li>\n",
    "                    <li><a href = \"https://en.wikipedia.org/wiki/Halld%C3%B3r_Laxness\"><h2>Halldór Laxness</h2></a>\n",
    "                        <br/><i>Writer and winner of the 1955 Nobel Prize in Literature</i>\n",
    "                        <img  src =\"https://upload.wikimedia.org/wikipedia/commons/4/4d/Halld%C3%B3r_Kiljan_Laxness_1955.jpg\" /></li>\n",
    "                    <li><a href = \"https://en.wikipedia.org/wiki/Gylfi_Sigur%C3%B0sson\"><h2>Gylfi Sigurðsson</h2></a>\n",
    "                        <br/><i>Professional footballer who plays as an attacking midfielder for Premier League club Everton and the Iceland national team</i>\n",
    "                        <img  src =\"https://upload.wikimedia.org/wikipedia/commons/f/f3/ISL-HRV_%2821%29_%28cropped%29.jpg\" /></li>\n",
    "                    <li><a href = \"https://en.wikipedia.org/wiki/Bjarni_Tryggvason\"><h2>Bjarni Tryggvason</h2></a>\n",
    "                        <br/><i>Engineer and a former NRC/CSA astronaut</i>\n",
    "                        <img  src =\"https://upload.wikimedia.org/wikipedia/commons/thumb/5/5b/Bjarni_Tryggvason.jpg/330px-Bjarni_Tryggvason.jpg\" /></li>\n",
    "                </ol>\n",
    "                </td>    \n",
    "            </tr>\n",
    "        \n",
    "    \n",
    "</tr>\n",
    "</table>"
   ]
  },
  {
   "cell_type": "code",
   "execution_count": 5,
   "metadata": {
    "scrolled": false
   },
   "outputs": [
    {
     "name": "stdout",
     "output_type": "stream",
     "text": [
      "hg\n",
      "Wrong argument\n"
     ]
    }
   ],
   "source": [
    "try:\n",
    "    i = int(input())\n",
    "    if i <0:\n",
    "        raise Exception()\n",
    "    print(decimal_to_binary(i))\n",
    "except Exception:\n",
    "    print(\"Wrong argument\")"
   ]
  },
  {
   "cell_type": "code",
   "execution_count": 3,
   "metadata": {},
   "outputs": [
    {
     "name": "stdout",
     "output_type": "stream",
     "text": [
      "01101\n"
     ]
    }
   ],
   "source": [
    "print(decimal_to_binary(13))"
   ]
  },
  {
   "cell_type": "code",
   "execution_count": 4,
   "metadata": {},
   "outputs": [
    {
     "name": "stdout",
     "output_type": "stream",
     "text": [
      "011001100010\n"
     ]
    }
   ],
   "source": [
    "print(decimal_to_binary(1634))"
   ]
  },
  {
   "cell_type": "code",
   "execution_count": null,
   "metadata": {},
   "outputs": [],
   "source": []
  }
 ],
 "metadata": {
  "kernelspec": {
   "display_name": "Python 3",
   "language": "python",
   "name": "python3"
  },
  "language_info": {
   "codemirror_mode": {
    "name": "ipython",
    "version": 3
   },
   "file_extension": ".py",
   "mimetype": "text/x-python",
   "name": "python",
   "nbconvert_exporter": "python",
   "pygments_lexer": "ipython3",
   "version": "3.7.7"
  }
 },
 "nbformat": 4,
 "nbformat_minor": 4
}
